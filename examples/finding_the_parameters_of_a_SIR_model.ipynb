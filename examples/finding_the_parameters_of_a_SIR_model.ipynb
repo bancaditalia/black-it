{
 "cells": [
  {
   "cell_type": "markdown",
   "id": "6d59b9eb",
   "metadata": {},
   "source": [
    "# Demo 1: epidemic model in C++. Visual comparison of the samplers\n",
    "\n",
    "As first example, let's use black-it to calibrate a C++ ABM in the epidemiological domain. We will illustrate how the various components (samplers, losses) are configured and plugged in.\n",
    "\n",
    "Finally, we will use the built-in visualization tools to form an intuition about **how different search strategies explore the parameter space**.\n",
    "\n",
    "#### Basic elements of a SIR model\n",
    "\n",
    "<table style=\"font-size: 110%\">\n",
    "    <tr style=\"background-color: white;\">\n",
    "    <td width=\"50%\" style=\"vertical-align: top; text-align: left\">In our model, each agent transitions among 3 states: <strong>Susceptible</strong>, <strong>Infectious</strong> and <strong>Recovered</strong>.<br><br>At each epoch, an Infectious agent has a probability <strong>β</strong> of infecting its Susceptible neighbours, and a probability <strong>γ</strong> to transition to the Recovered state.<br />From that moment on, it will no longer participate in the spreading of the disease.<img src=\"data/sir-model.png\" alt=\"SIR agent model\" style=\"width: 400px;\"/></td>\n",
    "    <td style=\"vertical-align: top; text-align: left\">The connectivity between agents is modeled as a <strong>Watts-Strogatz</strong> small world random graph, a regular ring lattice of mean degree <strong>K</strong> where each node has a probability <strong>r</strong> of being randomly rewired.<br><br>In our model, these parameters will be <strong>input-calibrated</strong> (i.e., fixed).<img src=\"data/watts-strogatz-network.png\" alt=\"Watts-Strogatz Network\" style=\"width: 200px;\"/></td>\n",
    "    </tr>\n",
    "</table>"
   ]
  },
  {
   "cell_type": "markdown",
   "id": "4ed59815",
   "metadata": {},
   "source": [
    "## Calibration of a SIR model against realistic data\n",
    "\n",
    "In this part of the tutorial we will use black-it to find the parameters of a SIR model fitted on the italian Covid-19 epidemiological data.\n",
    "\n",
    "We will see that a proper modelling of the first wave of the epidemic requires the introduction of a **structural break** in the SIR simulator i.e., a specific point in time in which an abrupt change in the parameters occurs.\n",
    "\n",
    "This is useful to model the effect of the lockdown over the spreading of the epidemic."
   ]
  },
  {
   "cell_type": "code",
   "execution_count": null,
   "id": "4f7c99c8",
   "metadata": {},
   "outputs": [],
   "source": [
    "# preparatory imports\n",
    "import numpy as np\n",
    "\n",
    "import sir_util\n",
    "\n",
    "from black_it.calibrator import Calibrator\n",
    "from black_it.loss_functions.minkowski import MinkowskiLoss\n",
    "from black_it.plot.plot_results import (\n",
    "    plot_convergence,\n",
    "    plot_losses_interact,\n",
    "    plot_sampling_interact,\n",
    ")\n",
    "from black_it.samplers.best_batch import BestBatchSampler\n",
    "from black_it.samplers.halton import HaltonSampler\n",
    "from black_it.samplers.random_forest import RandomForestSampler"
   ]
  },
  {
   "cell_type": "markdown",
   "id": "283deb65",
   "metadata": {},
   "source": [
    "### Load reference data"
   ]
  },
  {
   "cell_type": "markdown",
   "id": "87981352",
   "metadata": {},
   "source": [
    "For didactic puposes, let's load a previously prepared dataset containing a very rough estimate of the SIR data for the first 20 weeks of the italian Covid-19 epidemic. As the official data underestimates the number of cases, Susceptible and Recovered were rescaled by a constant factor.\n",
    "\n",
    "Let's load and plot the real time series we want to reproduce:"
   ]
  },
  {
   "cell_type": "code",
   "execution_count": null,
   "id": "94b722d9",
   "metadata": {},
   "outputs": [],
   "source": [
    "real_data = np.loadtxt(\"data/italy_20_weeks.txt\")\n",
    "sir_util.plotSeries(\"Real data\", real_data)"
   ]
  },
  {
   "cell_type": "markdown",
   "id": "74c1de2d",
   "metadata": {},
   "source": [
    "### Initialize a calibrator object\n",
    "\n",
    "#### 1. Model simulator"
   ]
  },
  {
   "cell_type": "code",
   "execution_count": null,
   "id": "ad302f8d",
   "metadata": {},
   "outputs": [],
   "source": [
    "from models.sir.sir_docker import SIR_w_breaks"
   ]
  },
  {
   "cell_type": "markdown",
   "id": "c7bcb3c1",
   "metadata": {},
   "source": [
    "#### 2. Loss function\n",
    "\n",
    "We'll use a quadratic loss, a simple squared difference bewteen the two series"
   ]
  },
  {
   "cell_type": "code",
   "execution_count": null,
   "id": "c35671bc",
   "metadata": {},
   "outputs": [],
   "source": [
    "loss = MinkowskiLoss()"
   ]
  },
  {
   "cell_type": "markdown",
   "id": "d111e38a",
   "metadata": {},
   "source": [
    "#### 3. Samplers\n",
    "\n",
    "Let's choose an advanced, static combination of samplers. In the next demo we will follow a different approach."
   ]
  },
  {
   "cell_type": "code",
   "execution_count": null,
   "id": "9176fe86",
   "metadata": {},
   "outputs": [],
   "source": [
    "sampler_batch_size = 16\n",
    "samplers = [\n",
    "    HaltonSampler(batch_size=sampler_batch_size),\n",
    "    RandomForestSampler(batch_size=sampler_batch_size),\n",
    "    BestBatchSampler(batch_size=sampler_batch_size),\n",
    "]"
   ]
  },
  {
   "cell_type": "markdown",
   "id": "a2083cfa",
   "metadata": {},
   "source": [
    "#### 4. Parameter space (bounds and precision)"
   ]
  },
  {
   "cell_type": "code",
   "execution_count": null,
   "id": "839dceac",
   "metadata": {},
   "outputs": [],
   "source": [
    "#    brktime, beta1, beta2, gamma\n",
    "bounds_w_breaks = [\n",
    "    [2, 0.1, 0,   0.1],\n",
    "    [7, 0.2, 0.1, 0.3],\n",
    "]\n",
    "precisions_w_breaks = [1, 0.0005, 0.0005, 0.0005]"
   ]
  },
  {
   "cell_type": "markdown",
   "id": "85cae6ce",
   "metadata": {},
   "source": [
    "#### Initialize the Calibrator\n",
    "\n",
    "There are almost **100 million** possible parameters to explore:"
   ]
  },
  {
   "cell_type": "code",
   "execution_count": null,
   "id": "61545fc5",
   "metadata": {
    "scrolled": true
   },
   "outputs": [],
   "source": [
    "saving_folder = \"output\"\n",
    "cal = Calibrator(\n",
    "    samplers=samplers,\n",
    "    real_data=real_data,\n",
    "    model=SIR_w_breaks,\n",
    "    parameters_bounds=bounds_w_breaks,\n",
    "    parameters_precision=precisions_w_breaks,\n",
    "    ensemble_size=1,\n",
    "    loss_function=loss,\n",
    "    saving_folder=saving_folder,\n",
    "    random_state=0,\n",
    ")"
   ]
  },
  {
   "cell_type": "markdown",
   "id": "933f211f",
   "metadata": {},
   "source": [
    "### Calibration\n",
    "\n",
    "Perform 15 calibration rounds.\n",
    "\n",
    "Note that, with these parameters, we would be able to achieve a much lower loss in 30 epochs."
   ]
  },
  {
   "cell_type": "code",
   "execution_count": null,
   "id": "8fc22d33",
   "metadata": {
    "scrolled": true
   },
   "outputs": [],
   "source": [
    "params, losses = cal.calibrate(15)"
   ]
  },
  {
   "cell_type": "markdown",
   "id": "4d03cdc7",
   "metadata": {},
   "source": [
    "Best parameters obtained so far:"
   ]
  },
  {
   "cell_type": "code",
   "execution_count": null,
   "id": "f61fd1e7",
   "metadata": {
    "scrolled": true
   },
   "outputs": [],
   "source": [
    "sir_util.printBestParams(params)"
   ]
  },
  {
   "cell_type": "markdown",
   "id": "50529b52",
   "metadata": {
    "scrolled": false
   },
   "source": [
    "### Compare the original and the calibrated time series"
   ]
  },
  {
   "cell_type": "code",
   "execution_count": null,
   "id": "e876fb22",
   "metadata": {},
   "outputs": [],
   "source": [
    "idxmin = np.argmin(cal.losses_samp)\n",
    "sir_util.plotSeries(\"real (───) vs calibrated (-----)\", real_data, cal.series_samp[idxmin, 0])"
   ]
  },
  {
   "cell_type": "markdown",
   "id": "62a5a4b4",
   "metadata": {},
   "source": [
    "## Plots\n",
    "\n",
    "Let's use the **black-it built-in functions** to visually explore how the calibration progressed."
   ]
  },
  {
   "cell_type": "code",
   "execution_count": null,
   "id": "f8250033",
   "metadata": {
    "scrolled": false
   },
   "outputs": [],
   "source": [
    "plot_sampling_interact(saving_folder)"
   ]
  },
  {
   "cell_type": "code",
   "execution_count": null,
   "id": "559deb37",
   "metadata": {},
   "outputs": [],
   "source": [
    "plot_convergence(saving_folder)"
   ]
  }
 ],
 "metadata": {
  "kernelspec": {
   "display_name": "Python 3 (ipykernel)",
   "language": "python",
   "name": "python3"
  },
  "language_info": {
   "codemirror_mode": {
    "name": "ipython",
    "version": 3
   },
   "file_extension": ".py",
   "mimetype": "text/x-python",
   "name": "python",
   "nbconvert_exporter": "python",
   "pygments_lexer": "ipython3",
   "version": "3.10.8"
  },
  "toc": {
   "base_numbering": 1,
   "nav_menu": {},
   "number_sections": true,
   "sideBar": true,
   "skip_h1_title": false,
   "title_cell": "Table of Contents",
   "title_sidebar": "Contents",
   "toc_cell": false,
   "toc_position": {},
   "toc_section_display": true,
   "toc_window_display": false
  }
 },
 "nbformat": 4,
 "nbformat_minor": 5
}
