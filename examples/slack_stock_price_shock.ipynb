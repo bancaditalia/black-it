{
 "cells": [
  {
   "cell_type": "markdown",
   "id": "aebce132",
   "metadata": {},
   "source": [
    "# Fitting a simple shock model to the stock price of \"Slack Technologies\""
   ]
  },
  {
   "cell_type": "markdown",
   "id": "d11bd605",
   "metadata": {},
   "source": [
    "Here we will fit a very simple \"shock model\" to the stock price of _Slack Technologies_ from the 27th of august 2020 to the 31st of march 2021. \n",
    "\n",
    "We will try to capture the shock induces by the spearing of rumors on the 25th of november 2020 that _Salesforce_ was interested in buying Slack. More info can be found here https://www.cnbc.com/2020/11/25/slack-shares-jump-following-report-of-possible-salesforce-acquisition.html."
   ]
  },
  {
   "cell_type": "code",
   "execution_count": 1,
   "id": "7a109438",
   "metadata": {},
   "outputs": [],
   "source": [
    "# import standard libraries\n",
    "import numpy as np\n",
    "import matplotlib.pyplot as plt"
   ]
  },
  {
   "cell_type": "code",
   "execution_count": 2,
   "id": "6884a30a",
   "metadata": {
    "scrolled": true
   },
   "outputs": [
    {
     "data": {
      "text/plain": [
       "Text(0, 0.5, 'Slack stock price')"
      ]
     },
     "execution_count": 2,
     "metadata": {},
     "output_type": "execute_result"
    },
    {
     "data": {
      "image/png": "[encoded data removed]",
      "text/plain": [
       "<Figure size 432x288 with 1 Axes>"
      ]
     },
     "metadata": {
      "needs_background": "light"
     },
     "output_type": "display_data"
    }
   ],
   "source": [
    "slack_shock_data = np.atleast_2d(np.loadtxt(\"data/slack_shock.txt\")).T\n",
    "plt.plot(slack_shock_data)\n",
    "plt.xlabel(\"days from 27-8-2020\")\n",
    "plt.ylabel(\"Slack stock price\")"
   ]
  },
  {
   "cell_type": "markdown",
   "id": "2b726720",
   "metadata": {},
   "source": [
    "### Model"
   ]
  },
  {
   "cell_type": "code",
   "execution_count": 3,
   "id": "82e58151",
   "metadata": {},
   "outputs": [],
   "source": [
    "# a simple model of a simple step function with three parameters\n",
    "def step_func(theta, N, seed=None):\n",
    "    # [tau, d1, d2]\n",
    "\n",
    "    e = np.zeros(N)\n",
    "    tau = int(theta[0])  # day of the sudden change in evaluation\n",
    "    d1, d2 = theta[1], theta[2]  # initial and final stock prices\n",
    "\n",
    "    e[0:tau] = d1\n",
    "    e[tau:] = d2\n",
    "\n",
    "    return np.atleast_2d(e).T"
   ]
  },
  {
   "cell_type": "code",
   "execution_count": 4,
   "id": "8c7a5dbf",
   "metadata": {},
   "outputs": [
    {
     "data": {
      "text/plain": [
       "[<matplotlib.lines.Line2D at 0x7f05b2c2f1c0>]"
      ]
     },
     "execution_count": 4,
     "metadata": {},
     "output_type": "execute_result"
    },
    {
     "data": {
      "image/png": "[encoded data removed]",
      "text/plain": [
       "<Figure size 432x288 with 1 Axes>"
      ]
     },
     "metadata": {
      "needs_background": "light"
     },
     "output_type": "display_data"
    }
   ],
   "source": [
    "plt.plot(step_func([20, 0, 1], 100))"
   ]
  },
  {
   "cell_type": "markdown",
   "id": "f714e1f5",
   "metadata": {},
   "source": [
    "### parameter bounds and precisions"
   ]
  },
  {
   "cell_type": "code",
   "execution_count": 5,
   "id": "c5149b28",
   "metadata": {},
   "outputs": [],
   "source": [
    "bounds = [[0, 20, 20],[150, 40, 40]]\n",
    "precisions = [1, 0.25, 0.25]"
   ]
  },
  {
   "cell_type": "code",
   "execution_count": 6,
   "id": "c0e99aa7",
   "metadata": {},
   "outputs": [
    {
     "data": {
      "text/plain": [
       "[[0, 20, 20], [150, 40, 40]]"
      ]
     },
     "execution_count": 6,
     "metadata": {},
     "output_type": "execute_result"
    }
   ],
   "source": [
    "bounds"
   ]
  },
  {
   "cell_type": "markdown",
   "id": "c0aa8a90",
   "metadata": {},
   "source": [
    "### samplers"
   ]
  },
  {
   "cell_type": "code",
   "execution_count": 7,
   "id": "352c08c4",
   "metadata": {},
   "outputs": [],
   "source": [
    "from black_it.samplers.halton import HaltonSampler\n",
    "from black_it.samplers.random_forest import RandomForestSampler\n",
    "from black_it.samplers.best_batch import BestBatchSampler"
   ]
  },
  {
   "cell_type": "code",
   "execution_count": 8,
   "id": "56c82ba7",
   "metadata": {},
   "outputs": [],
   "source": [
    "hs = HaltonSampler(batch_size=16)\n",
    "rf = RandomForestSampler(batch_size=16)\n",
    "bb = BestBatchSampler(batch_size=16)\n",
    "\n",
    "samplers = [hs, rf, bb]"
   ]
  },
  {
   "cell_type": "markdown",
   "id": "c0611c77",
   "metadata": {},
   "source": [
    "### loss"
   ]
  },
  {
   "cell_type": "code",
   "execution_count": 9,
   "id": "0ffac734",
   "metadata": {},
   "outputs": [],
   "source": [
    "# use a quadratic loss\n",
    "from black_it.loss_functions.minkowski import MinkowskiLoss\n",
    "\n",
    "loss = MinkowskiLoss()"
   ]
  },
  {
   "cell_type": "markdown",
   "id": "909b2bfb",
   "metadata": {},
   "source": [
    "### calibrator"
   ]
  },
  {
   "cell_type": "code",
   "execution_count": 10,
   "id": "e613904e",
   "metadata": {},
   "outputs": [],
   "source": [
    "from black_it.calibrator import Calibrator"
   ]
  },
  {
   "cell_type": "code",
   "execution_count": 11,
   "id": "0f9553c7",
   "metadata": {},
   "outputs": [
    {
     "name": "stdout",
     "output_type": "stream",
     "text": [
      "\n",
      "***\n",
      "Number of free params:       3.\n",
      "Explorable param space size: 990711.\n",
      "***\n",
      "\n",
      "Selecting 8 processes for the parallel evaluation of the model\n"
     ]
    }
   ],
   "source": [
    "cal = Calibrator(\n",
    "    samplers=samplers,\n",
    "    loss_function=loss,\n",
    "    model=step_func,\n",
    "    parameters_bounds=bounds,\n",
    "    parameters_precision=precisions,\n",
    "    ensemble_size=1,\n",
    "    convergence_precision=None,\n",
    "    verbose=True,\n",
    "    saving_folder=None,\n",
    "    real_data=slack_shock_data,\n",
    "    random_state=1,\n",
    ")"
   ]
  },
  {
   "cell_type": "markdown",
   "id": "1439ad01",
   "metadata": {},
   "source": [
    "### Calibration"
   ]
  },
  {
   "cell_type": "code",
   "execution_count": 12,
   "id": "f08eef1b",
   "metadata": {
    "scrolled": true
   },
   "outputs": [
    {
     "name": "stdout",
     "output_type": "stream",
     "text": [
      "\n",
      "BATCH NUMBER:   1\n",
      "PARAMS SAMPLED: 0\n",
      "\n",
      "METHOD: HaltonSampler\n",
      "----> sim exec elapsed time: 0.3s\n",
      "---->   min loss new params: 48.81\n",
      "---->   avg loss new params: 93.88\n",
      "----> avg loss exist params: 93.88\n",
      "---->         curr min loss: 48.81198552405123\n",
      "====>    total elapsed time: 0.3s\n",
      "\n",
      "METHOD: RandomForestSampler\n",
      "Warning: Repeated samples still found after 5 duplication passes. This is probably due to a small search space.\n",
      "----> sim exec elapsed time: 0.0s\n",
      "---->   min loss new params: 46.24\n",
      "---->   avg loss new params: 66.12\n",
      "----> avg loss exist params: 80.0\n",
      "---->         curr min loss: 46.23645638238496\n",
      "====>    total elapsed time: 2.1s\n",
      "\n",
      "METHOD: BestBatchSampler\n",
      "----> sim exec elapsed time: 0.0s\n",
      "---->   min loss new params: 41.37\n",
      "---->   avg loss new params: 59.29\n",
      "----> avg loss exist params: 73.1\n",
      "---->         curr min loss: 41.374024300280325\n",
      "====>    total elapsed time: 0.0s\n",
      "\n",
      "BATCH NUMBER:   2\n",
      "PARAMS SAMPLED: 48\n",
      "\n",
      "METHOD: HaltonSampler\n",
      "----> sim exec elapsed time: 0.0s\n",
      "---->   min loss new params: 59.83\n",
      "---->   avg loss new params: 100.14\n",
      "----> avg loss exist params: 79.86\n",
      "---->         curr min loss: 41.374024300280325\n",
      "====>    total elapsed time: 0.0s\n",
      "\n",
      "METHOD: RandomForestSampler\n",
      "Warning: Repeated samples still found after 5 duplication passes. This is probably due to a small search space.\n",
      "----> sim exec elapsed time: 0.0s\n",
      "---->   min loss new params: 26.62\n",
      "---->   avg loss new params: 63.31\n",
      "----> avg loss exist params: 76.55\n",
      "---->         curr min loss: 26.615971460763685\n",
      "====>    total elapsed time: 2.0s\n",
      "\n",
      "METHOD: BestBatchSampler\n",
      "----> sim exec elapsed time: 0.0s\n",
      "---->   min loss new params: 20.26\n",
      "---->   avg loss new params: 45.86\n",
      "----> avg loss exist params: 71.43\n",
      "---->         curr min loss: 20.25857835091562\n",
      "====>    total elapsed time: 0.0s\n",
      "\n",
      "BATCH NUMBER:   3\n",
      "PARAMS SAMPLED: 96\n",
      "\n",
      "METHOD: HaltonSampler\n",
      "----> sim exec elapsed time: 0.0s\n",
      "---->   min loss new params: 64.43\n",
      "---->   avg loss new params: 97.26\n",
      "----> avg loss exist params: 75.12\n",
      "---->         curr min loss: 20.25857835091562\n",
      "====>    total elapsed time: 0.0s\n",
      "\n",
      "METHOD: RandomForestSampler\n",
      "Warning: Repeated samples still found after 5 duplication passes. This is probably due to a small search space.\n",
      "----> sim exec elapsed time: 0.0s\n",
      "---->   min loss new params: 21.18\n",
      "---->   avg loss new params: 43.8\n",
      "----> avg loss exist params: 71.21\n",
      "---->         curr min loss: 20.25857835091562\n",
      "====>    total elapsed time: 2.0s\n",
      "\n",
      "METHOD: BestBatchSampler\n",
      "----> sim exec elapsed time: 0.0s\n",
      "---->   min loss new params: 19.47\n",
      "---->   avg loss new params: 30.07\n",
      "----> avg loss exist params: 66.64\n",
      "---->         curr min loss: 19.468179801927736\n",
      "====>    total elapsed time: 0.0s\n",
      "\n",
      "BATCH NUMBER:   4\n",
      "PARAMS SAMPLED: 144\n",
      "\n",
      "METHOD: HaltonSampler\n",
      "----> sim exec elapsed time: 0.0s\n",
      "---->   min loss new params: 25.85\n",
      "---->   avg loss new params: 89.51\n",
      "----> avg loss exist params: 68.92\n",
      "---->         curr min loss: 19.468179801927736\n",
      "====>    total elapsed time: 0.0s\n",
      "\n",
      "METHOD: RandomForestSampler\n",
      "Warning: Repeated samples still found after 5 duplication passes. This is probably due to a small search space.\n",
      "----> sim exec elapsed time: 0.0s\n",
      "---->   min loss new params: 21.5\n",
      "---->   avg loss new params: 30.01\n",
      "----> avg loss exist params: 65.39\n",
      "---->         curr min loss: 19.468179801927736\n",
      "====>    total elapsed time: 2.0s\n",
      "\n",
      "METHOD: BestBatchSampler\n",
      "----> sim exec elapsed time: 0.0s\n",
      "---->   min loss new params: 23.76\n",
      "---->   avg loss new params: 29.4\n",
      "----> avg loss exist params: 62.39\n",
      "---->         curr min loss: 19.468179801927736\n",
      "====>    total elapsed time: 0.0s\n",
      "\n",
      "BATCH NUMBER:   5\n",
      "PARAMS SAMPLED: 192\n",
      "\n",
      "METHOD: HaltonSampler\n",
      "----> sim exec elapsed time: 0.0s\n",
      "---->   min loss new params: 48.76\n",
      "---->   avg loss new params: 95.72\n",
      "----> avg loss exist params: 64.95\n",
      "---->         curr min loss: 19.468179801927736\n",
      "====>    total elapsed time: 0.0s\n",
      "\n",
      "METHOD: RandomForestSampler\n",
      "Warning: Repeated samples still found after 5 duplication passes. This is probably due to a small search space.\n",
      "----> sim exec elapsed time: 0.0s\n",
      "---->   min loss new params: 19.4\n",
      "---->   avg loss new params: 30.32\n",
      "----> avg loss exist params: 62.48\n",
      "---->         curr min loss: 19.40128801910293\n",
      "====>    total elapsed time: 2.0s\n",
      "\n",
      "METHOD: BestBatchSampler\n",
      "----> sim exec elapsed time: 0.0s\n",
      "---->   min loss new params: 20.73\n",
      "---->   avg loss new params: 30.09\n",
      "----> avg loss exist params: 60.32\n",
      "---->         curr min loss: 19.40128801910293\n",
      "====>    total elapsed time: 0.0s\n",
      "\n",
      "BATCH NUMBER:   6\n",
      "PARAMS SAMPLED: 240\n",
      "\n",
      "METHOD: HaltonSampler\n",
      "----> sim exec elapsed time: 0.0s\n",
      "---->   min loss new params: 44.43\n",
      "---->   avg loss new params: 93.83\n",
      "----> avg loss exist params: 62.41\n",
      "---->         curr min loss: 19.40128801910293\n",
      "====>    total elapsed time: 0.0s\n",
      "\n",
      "METHOD: RandomForestSampler\n",
      "Warning: Repeated samples still found after 5 duplication passes. This is probably due to a small search space.\n",
      "----> sim exec elapsed time: 0.0s\n",
      "---->   min loss new params: 20.85\n",
      "---->   avg loss new params: 26.51\n",
      "----> avg loss exist params: 60.3\n",
      "---->         curr min loss: 19.40128801910293\n",
      "====>    total elapsed time: 2.0s\n",
      "\n",
      "METHOD: BestBatchSampler\n",
      "----> sim exec elapsed time: 0.0s\n",
      "---->   min loss new params: 22.49\n",
      "---->   avg loss new params: 27.91\n",
      "----> avg loss exist params: 58.5\n",
      "---->         curr min loss: 19.40128801910293\n",
      "====>    total elapsed time: 0.0s\n",
      "\n",
      "BATCH NUMBER:   7\n",
      "PARAMS SAMPLED: 288\n",
      "\n",
      "METHOD: HaltonSampler\n",
      "----> sim exec elapsed time: 0.0s\n",
      "---->   min loss new params: 57.21\n",
      "---->   avg loss new params: 96.94\n",
      "----> avg loss exist params: 60.52\n",
      "---->         curr min loss: 19.40128801910293\n",
      "====>    total elapsed time: 0.0s\n",
      "\n",
      "METHOD: RandomForestSampler\n",
      "Warning: Repeated samples still found after 5 duplication passes. This is probably due to a small search space.\n",
      "----> sim exec elapsed time: 0.0s\n",
      "---->   min loss new params: 21.6\n",
      "---->   avg loss new params: 29.33\n",
      "----> avg loss exist params: 58.96\n",
      "---->         curr min loss: 19.40128801910293\n",
      "====>    total elapsed time: 2.0s\n",
      "\n",
      "METHOD: BestBatchSampler\n",
      "Warning: Repeated samples still found after 5 duplication passes. This is probably due to a small search space.\n",
      "----> sim exec elapsed time: 0.0s\n",
      "---->   min loss new params: 21.7\n",
      "---->   avg loss new params: 29.8\n",
      "----> avg loss exist params: 57.58\n",
      "---->         curr min loss: 19.40128801910293\n",
      "====>    total elapsed time: 0.0s\n",
      "\n",
      "BATCH NUMBER:   8\n",
      "PARAMS SAMPLED: 336\n",
      "\n",
      "METHOD: HaltonSampler\n",
      "----> sim exec elapsed time: 0.0s\n",
      "---->   min loss new params: 62.8\n",
      "---->   avg loss new params: 97.94\n",
      "----> avg loss exist params: 59.41\n",
      "---->         curr min loss: 19.40128801910293\n",
      "====>    total elapsed time: 0.0s\n",
      "\n",
      "METHOD: RandomForestSampler\n",
      "Warning: Repeated samples still found after 5 duplication passes. This is probably due to a small search space.\n",
      "----> sim exec elapsed time: 0.0s\n",
      "---->   min loss new params: 24.04\n",
      "---->   avg loss new params: 31.56\n",
      "----> avg loss exist params: 58.2\n",
      "---->         curr min loss: 19.40128801910293\n",
      "====>    total elapsed time: 2.1s\n",
      "\n",
      "METHOD: BestBatchSampler\n",
      "Warning: Repeated samples still found after 5 duplication passes. This is probably due to a small search space.\n",
      "----> sim exec elapsed time: 0.0s\n",
      "---->   min loss new params: 18.78\n",
      "---->   avg loss new params: 27.02\n",
      "----> avg loss exist params: 56.9\n",
      "---->         curr min loss: 18.777912631604902\n",
      "====>    total elapsed time: 0.1s\n",
      "\n",
      "BATCH NUMBER:   9\n",
      "PARAMS SAMPLED: 384\n",
      "\n",
      "METHOD: HaltonSampler\n",
      "----> sim exec elapsed time: 0.0s\n",
      "---->   min loss new params: 49.95\n",
      "---->   avg loss new params: 90.04\n",
      "----> avg loss exist params: 58.23\n",
      "---->         curr min loss: 18.777912631604902\n",
      "====>    total elapsed time: 0.0s\n",
      "\n",
      "METHOD: RandomForestSampler\n",
      "Warning: Repeated samples still found after 5 duplication passes. This is probably due to a small search space.\n",
      "----> sim exec elapsed time: 0.0s\n",
      "---->   min loss new params: 20.55\n",
      "---->   avg loss new params: 30.55\n",
      "----> avg loss exist params: 57.16\n",
      "---->         curr min loss: 18.777912631604902\n",
      "====>    total elapsed time: 2.1s\n",
      "\n",
      "METHOD: BestBatchSampler\n",
      "Warning: Repeated samples still found after 5 duplication passes. This is probably due to a small search space.\n",
      "----> sim exec elapsed time: 0.0s\n",
      "---->   min loss new params: 20.85\n",
      "---->   avg loss new params: 29.97\n",
      "----> avg loss exist params: 56.15\n",
      "---->         curr min loss: 18.777912631604902\n",
      "====>    total elapsed time: 0.1s\n",
      "\n",
      "BATCH NUMBER:   10\n",
      "PARAMS SAMPLED: 432\n",
      "\n",
      "METHOD: HaltonSampler\n",
      "----> sim exec elapsed time: 0.0s\n",
      "---->   min loss new params: 33.91\n",
      "---->   avg loss new params: 89.94\n",
      "----> avg loss exist params: 57.36\n",
      "---->         curr min loss: 18.777912631604902\n",
      "====>    total elapsed time: 0.0s\n",
      "\n",
      "METHOD: RandomForestSampler\n"
     ]
    },
    {
     "name": "stdout",
     "output_type": "stream",
     "text": [
      "Warning: Repeated samples still found after 5 duplication passes. This is probably due to a small search space.\n",
      "----> sim exec elapsed time: 0.0s\n",
      "---->   min loss new params: 23.68\n",
      "---->   avg loss new params: 35.37\n",
      "----> avg loss exist params: 56.6\n",
      "---->         curr min loss: 18.777912631604902\n",
      "====>    total elapsed time: 2.1s\n",
      "\n",
      "METHOD: BestBatchSampler\n",
      "Warning: Repeated samples still found after 5 duplication passes. This is probably due to a small search space.\n",
      "----> sim exec elapsed time: 0.0s\n",
      "---->   min loss new params: 18.78\n",
      "---->   avg loss new params: 27.49\n",
      "----> avg loss exist params: 55.63\n",
      "---->         curr min loss: 18.777912631604902\n",
      "====>    total elapsed time: 0.1s\n"
     ]
    }
   ],
   "source": [
    "params, losses = cal.calibrate(10)"
   ]
  },
  {
   "cell_type": "code",
   "execution_count": 13,
   "id": "07d303ae",
   "metadata": {},
   "outputs": [
    {
     "data": {
      "text/plain": [
       "array([64., 24., 35.])"
      ]
     },
     "execution_count": 13,
     "metadata": {},
     "output_type": "execute_result"
    }
   ],
   "source": [
    "# best parameters obtained so far\n",
    "params[0]"
   ]
  },
  {
   "cell_type": "markdown",
   "id": "74d04a72",
   "metadata": {},
   "source": [
    "### plots"
   ]
  },
  {
   "cell_type": "code",
   "execution_count": 14,
   "id": "2088a895",
   "metadata": {},
   "outputs": [],
   "source": [
    "# index of mimumum loss\n",
    "idxmin = np.argmin(cal.losses_samp)\n",
    "param_min = cal.params_samp[idxmin]"
   ]
  },
  {
   "cell_type": "code",
   "execution_count": 15,
   "id": "1367ea68",
   "metadata": {},
   "outputs": [],
   "source": [
    "# convergence\n",
    "losses_per_batch = [\n",
    "    cal.losses_samp[cal.batch_num_samp == i]\n",
    "    for i in range(int(max(cal.batch_num_samp)) + 1)\n",
    "]\n",
    "mins_per_batch = np.array([np.min(l) for l in losses_per_batch])\n",
    "cummin_per_batch = [\n",
    "    np.min(mins_per_batch[: i + 1]) for i in range(mins_per_batch.shape[0])\n",
    "]"
   ]
  },
  {
   "cell_type": "code",
   "execution_count": 16,
   "id": "5b3fdce2",
   "metadata": {},
   "outputs": [
    {
     "data": {
      "text/plain": [
       "<matplotlib.legend.Legend at 0x7f05d0a0eaf0>"
      ]
     },
     "execution_count": 16,
     "metadata": {},
     "output_type": "execute_result"
    },
    {
     "data": {
      "image/png": "[encoded data removed]",
      "text/plain": [
       "<Figure size 432x288 with 1 Axes>"
      ]
     },
     "metadata": {
      "needs_background": "light"
     },
     "output_type": "display_data"
    }
   ],
   "source": [
    "plt.figure()\n",
    "plt.plot(mins_per_batch, \"-o\", label=\"batch minimum\")\n",
    "plt.plot(cummin_per_batch, \"-o\", label=\"cumulative minimum\")\n",
    "plt.ylabel(\"loss\")\n",
    "plt.xlabel(\"batch number\")\n",
    "plt.legend()"
   ]
  },
  {
   "cell_type": "code",
   "execution_count": 17,
   "id": "47858329",
   "metadata": {},
   "outputs": [
    {
     "data": {
      "text/plain": [
       "<matplotlib.legend.Legend at 0x7f05b2c8dd30>"
      ]
     },
     "execution_count": 17,
     "metadata": {},
     "output_type": "execute_result"
    },
    {
     "data": {
      "image/png": "[encoded data removed]",
      "text/plain": [
       "<Figure size 432x288 with 1 Axes>"
      ]
     },
     "metadata": {
      "needs_background": "light"
     },
     "output_type": "display_data"
    }
   ],
   "source": [
    "# agreement between real and simulated time series\n",
    "\n",
    "plt.plot(slack_shock_data[:, 0], \"-\", label=\"real series\")\n",
    "plt.ylabel(\n",
    "    \"Slack stock price\",\n",
    ")\n",
    "plt.xlabel(\"days from 27-8-2020\")\n",
    "\n",
    "\n",
    "plt.plot(cal.series_samp[idxmin, 0, :, 0].T, ls=\"--\", label=\"fitted model\")\n",
    "plt.legend()"
   ]
  }
 ],
 "metadata": {
  "kernelspec": {
   "display_name": "Python 3 (ipykernel)",
   "language": "python",
   "name": "python3"
  },
  "language_info": {
   "codemirror_mode": {
    "name": "ipython",
    "version": 3
   },
   "file_extension": ".py",
   "mimetype": "text/x-python",
   "name": "python",
   "nbconvert_exporter": "python",
   "pygments_lexer": "ipython3",
   "version": "3.9.7"
  },
  "toc": {
   "base_numbering": 1,
   "nav_menu": {},
   "number_sections": true,
   "sideBar": true,
   "skip_h1_title": false,
   "title_cell": "Table of Contents",
   "title_sidebar": "Contents",
   "toc_cell": false,
   "toc_position": {},
   "toc_section_display": true,
   "toc_window_display": false
  }
 },
 "nbformat": 4,
 "nbformat_minor": 5
}
