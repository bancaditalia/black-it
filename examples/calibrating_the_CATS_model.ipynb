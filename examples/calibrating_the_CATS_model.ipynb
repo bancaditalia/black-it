{
 "cells": [
  {
   "cell_type": "markdown",
   "id": "903fbc77",
   "metadata": {},
   "source": [
    "# Calibrating the CATS model against the US economy using black-it\n",
    "\n",
    "<table style=\"font-size: 110%\">\n",
    "    <tr style=\"background-color: white;\">\n",
    "    <td width=\"50%\" style=\"vertical-align: top; text-align: left\">\n",
    "        We will use black-it to calibrate CATS (Complex Adaptive Trivial System) a well-known macroeconomic model that our team reimplemented in Julia.<br><br>\n",
    "        The high level structure of the model is illustrated on the right: <span style=\"background-color: #D3E7C6; font-weight: bold;\">Agent classes</span> are represented in green ovals, interaction types are specified in rectangles: <span style=\"background-color: #FFE699; font-weight: bold;\">markets</span> are yellow, <span style=\"background-color: #F8CBAD; font-weight: bold;\">bank deposits</span> are peach.<br><br>\n",
    "        The directions of the arrows indicate the flow of the specific good e.g., consumption goods are acquired by households from C-firms, while labour is acquired by firms from households.<br><br>\n",
    "        The model has <strong>28 input parameters</strong> and <strong>16 output parameters</strong>.</td>\n",
    "    <td style=\"vertical-align: top; text-align: left\"><div style=\"text-align: center\">CATS high level architecture:</div><img src=\"data/agenc-architecture.png\" alt=\"AgenC architechture\" style=\"width: 500px;\"/></td>\n",
    "    </tr>\n",
    "</table>"
   ]
  },
  {
   "cell_type": "code",
   "execution_count": null,
   "id": "b46c1282",
   "metadata": {},
   "outputs": [],
   "source": [
    "import pathlib\n",
    "import shutil\n",
    "\n",
    "path_to_model_output = pathlib.Path(\"\").resolve() / \"CATS_model_output\"\n",
    "print(f\"Removing {path_to_model_output}\")\n",
    "shutil.rmtree(path_to_model_output, ignore_errors=True)"
   ]
  },
  {
   "cell_type": "code",
   "execution_count": null,
   "id": "3ee295ca",
   "metadata": {},
   "outputs": [],
   "source": [
    "import abm_models\n",
    "import numpy as np\n",
    "import seaborn as sns\n",
    "import matplotlib.pyplot as plt\n",
    "\n",
    "import cats_util\n",
    "\n",
    "from black_it.calibrator import Calibrator\n",
    "from black_it.loss_functions.msm import MethodOfMomentsLoss\n",
    "from black_it.samplers.best_batch import BestBatchSampler\n",
    "from black_it.samplers.random_forest import RandomForestSampler\n",
    "from black_it.samplers.halton import HaltonSampler\n",
    "from black_it.utils.time_series import get_mom_ts, get_mom_ts_1d\n",
    "from black_it.utils.time_series import log_and_hp_filter, diff_log_demean_filter"
   ]
  },
  {
   "cell_type": "code",
   "execution_count": null,
   "id": "0fdcec92",
   "metadata": {},
   "outputs": [],
   "source": [
    "cats_model = abm_models.make(\n",
    "    \"CatsModel\", \n",
    "    path_to_cats_directory=\"/home/black-it-experiments/disk/black-it-demo/AgenC\",\n",
    "    W=500,\n",
    "    F=50,\n",
    "    N=10, \n",
    "    warm_up_samples=200,\n",
    "    output_variables=[\n",
    "      \"Y_real\",\n",
    "      \"gdp_deflator\",\n",
    "      \"Investment\",\n",
    "      \"consumption\",\n",
    "      \"Un\",\n",
    "    ]\n",
    ")"
   ]
  },
  {
   "cell_type": "code",
   "execution_count": null,
   "id": "293dbae9",
   "metadata": {},
   "outputs": [],
   "source": [
    "# import the target data, the US economy from 1947 to 2019\n",
    "real_data = np.genfromtxt('FRED_data.txt')"
   ]
  },
  {
   "cell_type": "code",
   "execution_count": null,
   "id": "2ba7ac84",
   "metadata": {},
   "outputs": [],
   "source": [
    "cats_util.plot_cats_output(real_data)"
   ]
  },
  {
   "cell_type": "code",
   "execution_count": null,
   "id": "41b0be44",
   "metadata": {},
   "outputs": [],
   "source": [
    "# try to run the ABM with some parameters\n",
    "output = cats_model.run(\n",
    "    params={\n",
    "        \"Iprob\": 0.25,\n",
    "        \"chi\": 0.05,\n",
    "        \"delta\": 0.5,\n",
    "        \"inventory_depreciation\": 0.3,\n",
    "        \"mu\": 1.2,\n",
    "        \"p_adj\": 0.1,\n",
    "        \"phi\": 0.02,\n",
    "        \"q_adj\": 0.9,\n",
    "        \"tax_rate\": 0.05,\n",
    "        \"theta\": 0.05,\n",
    "        \"xi\": 0.96,\n",
    "    }, \n",
    "    nb_samples=281,\n",
    "    seed=0,\n",
    ")"
   ]
  },
  {
   "cell_type": "code",
   "execution_count": null,
   "id": "2163852a",
   "metadata": {},
   "outputs": [],
   "source": [
    "# plot one of the obtained series\n",
    "plt.plot(output[:, 0])\n",
    "plt.xlabel('quarters')\n",
    "plt.ylabel('real gdp')"
   ]
  },
  {
   "cell_type": "code",
   "execution_count": null,
   "id": "c1980ced",
   "metadata": {},
   "outputs": [],
   "source": [
    "# define a simple model wrapper\n",
    "def model_wrapper(theta, N, seed):\n",
    "    return cats_model.run(\n",
    "        params=cats_util.found_params | {\n",
    "            \"Iprob\": theta[0],\n",
    "            \"inventory_depreciation\": theta[1],\n",
    "            \"mu\": theta[2],\n",
    "        },\n",
    "        nb_samples=N, \n",
    "        seed=seed,\n",
    "    )"
   ]
  },
  {
   "cell_type": "code",
   "execution_count": null,
   "id": "a23cf038",
   "metadata": {},
   "outputs": [],
   "source": [
    "# define a method of moments loss function with some coordinate filters\n",
    "coordinate_filters = [\n",
    "    log_and_hp_filter, \n",
    "    diff_log_demean_filter, \n",
    "    log_and_hp_filter, \n",
    "    log_and_hp_filter, \n",
    "    None,\n",
    "]\n",
    "\n",
    "loss = MethodOfMomentsLoss(\n",
    "    coordinate_filters=coordinate_filters,\n",
    "    covariance_mat=\"identity\",\n",
    "    standardise_moments=True,\n",
    ")"
   ]
  },
  {
   "cell_type": "code",
   "execution_count": null,
   "id": "e2d4aafa",
   "metadata": {},
   "outputs": [],
   "source": [
    "# define the simulation bounds and precisions\n",
    "bounds = np.array([\n",
    "        [0.0, 0.5],\n",
    "        [0.0, 1.0],\n",
    "        [1.0, 1.5]]).T\n",
    "\n",
    "precisions = [0.001] * 3"
   ]
  },
  {
   "cell_type": "code",
   "execution_count": null,
   "id": "addac023",
   "metadata": {},
   "outputs": [],
   "source": [
    "# define a list of search methods, one just for seeding\n",
    "seed_sampler = [HaltonSampler(batch_size=8)]\n",
    "adaptive_sampler = [RandomForestSampler(batch_size=8), BestBatchSampler(batch_size=8)]"
   ]
  },
  {
   "cell_type": "code",
   "execution_count": null,
   "id": "ff367058",
   "metadata": {},
   "outputs": [],
   "source": [
    "# folder where data is saved\n",
    "saving_folder = \"CATS_model_output\"\n",
    "\n",
    "# length of the simulations\n",
    "sim_length = 800\n",
    "ensemble_size = 4\n",
    "\n",
    "# initialize the Calibrator\n",
    "cal = Calibrator(\n",
    "    samplers=seed_sampler,\n",
    "    real_data=real_data,\n",
    "    sim_length=sim_length,\n",
    "    model=model_wrapper,\n",
    "    parameters_bounds=bounds,\n",
    "    parameters_precision=precisions,\n",
    "    ensemble_size=ensemble_size, \n",
    "    loss_function=loss,\n",
    "    saving_folder=saving_folder,\n",
    "    random_state=0,\n",
    "    n_jobs=32,\n",
    ")"
   ]
  },
  {
   "cell_type": "code",
   "execution_count": null,
   "id": "d07d67b5",
   "metadata": {
    "scrolled": true
   },
   "outputs": [],
   "source": [
    "# sample some initial seed points uniformly using a Halton sampler\n",
    "params, losses = cal.calibrate(1)"
   ]
  },
  {
   "cell_type": "code",
   "execution_count": null,
   "id": "486c9334",
   "metadata": {},
   "outputs": [],
   "source": [
    "# change the sampler to a more adaptive one\n",
    "cal.set_samplers(adaptive_sampler)"
   ]
  },
  {
   "cell_type": "code",
   "execution_count": null,
   "id": "5b9fa8da",
   "metadata": {
    "scrolled": true
   },
   "outputs": [],
   "source": [
    "# calibrate for a number of epochs\n",
    "cal.calibrate(5)"
   ]
  },
  {
   "cell_type": "code",
   "execution_count": null,
   "id": "f544f6a3",
   "metadata": {},
   "outputs": [],
   "source": [
    "# find the best loss index and print the best loss\n",
    "best_idx = np.argmin(cal.losses_samp)\n",
    "print(f\"Best loss index: {best_idx} (out of {len(cal.losses_samp)} simulations)\")\n",
    "print(f\"Best loss value: {cal.losses_samp[best_idx]:.2f}\")"
   ]
  },
  {
   "cell_type": "code",
   "execution_count": null,
   "id": "e291379c",
   "metadata": {},
   "outputs": [],
   "source": [
    "# retrieve the best loss simulations\n",
    "best_sim = cal.series_samp[best_idx]"
   ]
  },
  {
   "cell_type": "code",
   "execution_count": null,
   "id": "539c4603",
   "metadata": {
    "scrolled": false
   },
   "outputs": [],
   "source": [
    "# compare real and simulated moments\n",
    "fig, axes = plt.subplots(2, 5, figsize=(8, 3.5))\n",
    "\n",
    "xlabels_kde = [[-0.1, 0.0, 0.1 ], [-0.05, 0, 0.05], [-0.3, 0, 0.3],[-0.1, 0, 0.1], [0., 0.1, 0.2], ]\n",
    "clips = [(-0.1, 0.1), (-0.1, 0.1), (-0.4, 0.4), (-0.1, 0.1), (0.0, 0.25)]\n",
    "cmap = plt.get_cmap(\"tab10\")\n",
    "\n",
    "for i, filter_ in enumerate(coordinate_filters):\n",
    "    ### DATA ##:\n",
    "    if filter_ is None:\n",
    "        filter_ = lambda x: x\n",
    "    filtered_data = np.array([filter_(best_sim[j, :, i]) for j in range(ensemble_size)])\n",
    "\n",
    "    real_moments = get_mom_ts_1d(real_data[:, i])\n",
    "    sim_moments = np.array([get_mom_ts_1d(filtered_data[j, :]) for j in range(ensemble_size)]) \n",
    "    m = np.mean(sim_moments, axis = 0)\n",
    "    s = np.std(sim_moments, axis = 0)\n",
    "\n",
    "    ### KDE ###\n",
    "    ax = axes[0, i]\n",
    "    ax.set_title(cats_util.target_labels[i])\n",
    "    sns.kdeplot(ax=ax, data=real_data[:, i], label = 'target', \n",
    "                bw_adjust = 1., clip = clips[i], lw = 2)\n",
    "\n",
    "    sns.kdeplot(ax=ax, data = filtered_data.flatten(),\n",
    "                color = cmap(1), label = 'lowest loss', \n",
    "                bw_adjust = 1., clip = clips[i], lw = 2)\n",
    "\n",
    "    ax.set_ylabel(\"\")\n",
    "    ax.set_yticklabels(\"\")\n",
    "    ax.set_xticks(xlabels_kde[i])\n",
    "\n",
    "    ### MOMENTS ###\n",
    "    index = np.arange(len(real_moments))\n",
    "    ax = axes[1, i]\n",
    "    ax.set_ylim(-1, 2.2)\n",
    "    ax.plot(index, real_moments, '-o', ms = 3)\n",
    "\n",
    "    ax.plot(index, m, color = cmap(1), ls = '-',marker = 'o', ms = 3)\n",
    "    ax.fill_between(index, m - s, m + s, alpha = 0.25, color = cmap(1))\n",
    "    ax.set_xticks([0, 4, 9, 13])\n",
    "    ax.set_xlabel(\"\")\n",
    "\n",
    "axes[0, 0].set_ylabel(\"density\", labelpad= 10)\n",
    "axes[1, 0].set_ylabel(\"moments value\", labelpad= -3)\n",
    "\n",
    "for i in range(1, 5):\n",
    "    axes[1, i].set_yticklabels(\"\")\n",
    "\n",
    "plt.subplots_adjust(left=0.1,\n",
    "                    bottom=0.1,\n",
    "                    right=0.9,\n",
    "                    top=0.9,\n",
    "                    wspace=0.3,\n",
    "                    hspace=0.3)\n",
    "\n",
    "axes[0, 4].plot([0.1, 0.15],[21, 21], lw = 2, color = cmap(0))\n",
    "axes[0, 4].text(0.1,18,\"real\")\n",
    "\n",
    "axes[0, 4].plot([0.1, 0.15],[13, 13], lw = 2, color = cmap(1))\n",
    "axes[0, 4].text(0.1,10,\"simulated\")\n",
    "\n",
    "plt.show()"
   ]
  },
  {
   "cell_type": "markdown",
   "id": "57ab6bb3",
   "metadata": {},
   "source": [
    "- 0-3: mean, variance, skewness and kurtosis\n",
    "- 4-8: autocorrelations of increasing time lags\n",
    "- 9-12: mean, variance, skewness and kurtosis of the differentiated time series\n",
    "- 13-17: autocorrelations of the differentiated time series."
   ]
  }
 ],
 "metadata": {
  "kernelspec": {
   "display_name": "Python 3 (ipykernel)",
   "language": "python",
   "name": "python3"
  },
  "language_info": {
   "codemirror_mode": {
    "name": "ipython",
    "version": 3
   },
   "file_extension": ".py",
   "mimetype": "text/x-python",
   "name": "python",
   "nbconvert_exporter": "python",
   "pygments_lexer": "ipython3",
   "version": "3.10.8"
  },
  "toc": {
   "base_numbering": 1,
   "nav_menu": {},
   "number_sections": true,
   "sideBar": true,
   "skip_h1_title": false,
   "title_cell": "Table of Contents",
   "title_sidebar": "Contents",
   "toc_cell": false,
   "toc_position": {},
   "toc_section_display": true,
   "toc_window_display": false
  }
 },
 "nbformat": 4,
 "nbformat_minor": 5
}
