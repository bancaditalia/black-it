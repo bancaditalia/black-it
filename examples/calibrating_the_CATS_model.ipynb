{
 "cells": [
  {
   "cell_type": "markdown",
   "id": "903fbc77",
   "metadata": {},
   "source": [
    "# Calibrating the CATS model against the US economy using black-it\n",
    "\n",
    "<table style=\"font-size: 110%\">\n",
    "    <tr style=\"background-color: white;\">\n",
    "    <td width=\"50%\" style=\"vertical-align: top; text-align: left\">\n",
    "        We will use black-it to calibrate CATS (Complex Adaptive Trivial System) a well-known macroeconomic model that our team reimplemented in Julia.<br><br>\n",
    "        The model has <strong>28 input parameters</strong> and outputs a <strong>16 components time series</strong>.<br><br>\n",
    "        The high level structure of the model is illustrated on the right: <span style=\"background-color: #D3E7C6; font-weight: bold;\">Agent classes</span> are represented in green ovals, interaction types are specified in rectangles: <span style=\"background-color: #FFE699; font-weight: bold;\">markets</span> are yellow, <span style=\"background-color: #F8CBAD; font-weight: bold;\">bank deposits</span> are peach.<br><br>\n",
    "        The directions of the arrows indicate the flow of the specific good e.g., consumption goods are acquired by households from C-firms, while labour is acquired by firms from households.<br><br>\n",
    "        </td>\n",
    "    <td style=\"vertical-align: top; text-align: left\"><div style=\"text-align: center\">CATS high level architecture:</div><img src=\"data/agenc-architecture.png\" alt=\"AgenC architechture\" style=\"width: 500px;\"/></td>\n",
    "    </tr>\n",
    "</table>"
   ]
  },
  {
   "cell_type": "markdown",
   "id": "9931e749",
   "metadata": {},
   "source": [
    "In order to be able to perform a meaningful calibration during our demo, we will fix 25 parameters to known good values (input calibration), and operate on a restricted model with just **3 degrees of freedom** and **5 output variables**.\n",
    "\n",
    "\n",
    "$$\n",
    "\\begin{aligned}\n",
    "& \\text {Free parameters of the restricted CATS model }\\\\\n",
    "&\\begin{array}{lll}\n",
    "\\hline \\text { Param. } & \\text { Description } & \\text { Range } \\\\\n",
    "\\hline \\hline\n",
    "\\nu & \\text {Investment probability} & 0-1.0 \\\\\n",
    "\\delta^k & \\text {Inventories depreciation rate} & 0-0.5 \\\\\n",
    "\\mu & \\text {Bank’s gross mark-up} & 1-1.5 \\\\\n",
    "\\hline\n",
    "\\end{array}\n",
    "\\end{aligned}\n",
    "$$"
   ]
  },
  {
   "cell_type": "markdown",
   "id": "84adacc7",
   "metadata": {},
   "source": [
    "## Target data: US economy from 1947 to 2019\n",
    "\n",
    "Source: FRED."
   ]
  },
  {
   "cell_type": "code",
   "execution_count": null,
   "id": "293dbae9",
   "metadata": {},
   "outputs": [],
   "source": [
    "import cats_util\n",
    "\n",
    "real_data = cats_util.load_fred_data()\n",
    "cats_util.plot_cats_output(real_data)"
   ]
  },
  {
   "cell_type": "markdown",
   "id": "4c2e5810",
   "metadata": {},
   "source": [
    "## The CATS model\n",
    "\n",
    "Bring the CATS model into scope.\n",
    "\n",
    "Makes use of the `abm_models` package, a proof-of-concept to unify the packaging and running of ABMs."
   ]
  },
  {
   "cell_type": "code",
   "execution_count": null,
   "id": "0fdcec92",
   "metadata": {},
   "outputs": [],
   "source": [
    "cats_model = cats_util.build_cats_model(\"/home/black-it-experiments/disk/black-it-demo/AgenC\")"
   ]
  },
  {
   "cell_type": "markdown",
   "id": "23b4ffef",
   "metadata": {
    "scrolled": false
   },
   "source": [
    "Just to test that the Julia - black-it integration is working, let's briefly run the syntethic model with a set of random parameters, and let's have a look at the first component of the series (the GDP)."
   ]
  },
  {
   "cell_type": "code",
   "execution_count": null,
   "id": "41b0be44",
   "metadata": {},
   "outputs": [],
   "source": [
    "cats_util.cleanup_output_dir()\n",
    "output = cats_model.run(\n",
    "    params={\n",
    "        \"Iprob\": 0.25,\n",
    "        \"chi\": 0.05,\n",
    "        \"delta\": 0.5,\n",
    "        \"inventory_depreciation\": 0.3,\n",
    "        \"mu\": 1.2,\n",
    "        \"p_adj\": 0.1,\n",
    "        \"phi\": 0.02,\n",
    "        \"q_adj\": 0.9,\n",
    "        \"tax_rate\": 0.05,\n",
    "        \"theta\": 0.05,\n",
    "        \"xi\": 0.96,\n",
    "    }, \n",
    "    nb_samples=281,\n",
    "    seed=0,\n",
    ")\n",
    "cats_util.plot_gdp(output)"
   ]
  },
  {
   "cell_type": "markdown",
   "id": "d01278b7",
   "metadata": {},
   "source": [
    "For didactic purposes, let's **reduce to 3 the number of free parameters** of the CATS model, giving known good values to the other ones. This allows us to run the calibration in a short time."
   ]
  },
  {
   "cell_type": "code",
   "execution_count": null,
   "id": "9e03fd51",
   "metadata": {},
   "outputs": [],
   "source": [
    "def restricted_cats_model(theta, N, seed):\n",
    "    return cats_model.run(\n",
    "        params=cats_util.found_params | {\n",
    "            \"Iprob\": theta[0],                   # investment probability\n",
    "            \"inventory_depreciation\": theta[1],  # Inventories depreciation rate\n",
    "            \"mu\": theta[2],                      # Bank’s gross mark-up\n",
    "        },\n",
    "        nb_samples=N, \n",
    "        seed=seed,\n",
    "    )"
   ]
  },
  {
   "cell_type": "markdown",
   "id": "7652a49a",
   "metadata": {},
   "source": [
    "## Start configuring the calibrator\n",
    "\n",
    "First of all, the black-it classes have to be brought in scope."
   ]
  },
  {
   "cell_type": "code",
   "execution_count": null,
   "id": "fb03f9c3",
   "metadata": {},
   "outputs": [],
   "source": [
    "from black_it.calibrator import Calibrator\n",
    "from black_it.loss_functions.msm import MethodOfMomentsLoss\n",
    "from black_it.samplers.best_batch import BestBatchSampler\n",
    "from black_it.samplers.random_forest import RandomForestSampler\n",
    "from black_it.samplers.halton import HaltonSampler\n",
    "from black_it.utils.time_series import log_and_hp_filter, diff_log_demean_filter"
   ]
  },
  {
   "cell_type": "markdown",
   "id": "889d99ff",
   "metadata": {},
   "source": [
    "We will use a method of moments loss function with [Hodrick–Prescott filtering](https://en.wikipedia.org/wiki/Hodrick%E2%80%93Prescott_filter).\n",
    "\n",
    "This filter, togheter with a number of other advanced tools for data trasformation and intelligent search, is already integrated in black-it."
   ]
  },
  {
   "cell_type": "code",
   "execution_count": null,
   "id": "a23cf038",
   "metadata": {},
   "outputs": [],
   "source": [
    "coordinate_filters = [\n",
    "    log_and_hp_filter, \n",
    "    diff_log_demean_filter, \n",
    "    log_and_hp_filter, \n",
    "    log_and_hp_filter, \n",
    "    None,\n",
    "]\n",
    "loss = MethodOfMomentsLoss(\n",
    "    coordinate_filters=coordinate_filters,\n",
    "    covariance_mat=\"identity\",\n",
    "    standardise_moments=True,\n",
    ")"
   ]
  },
  {
   "cell_type": "markdown",
   "id": "3c246795",
   "metadata": {},
   "source": [
    "Define the simulation bounds and precisions"
   ]
  },
  {
   "cell_type": "code",
   "execution_count": null,
   "id": "e2d4aafa",
   "metadata": {},
   "outputs": [],
   "source": [
    "bounds = [\n",
    "    [0.3, 0.5, 1.0],\n",
    "    [0.5, 1.0, 1.4],\n",
    "]\n",
    "precisions = [0.001, 0.001, 0.001]"
   ]
  },
  {
   "cell_type": "markdown",
   "id": "31c97392",
   "metadata": {},
   "source": [
    "Finalize the configuration of the calibrator.\n",
    "\n",
    "For each set of parameters, 4 simulations will be run, in order to average out the results.\n",
    "We will start with a simple low discrepancy sampler ([Halton sequence](https://en.wikipedia.org/wiki/Halton_sequence)) to bootstrap the search."
   ]
  },
  {
   "cell_type": "code",
   "execution_count": null,
   "id": "ff367058",
   "metadata": {},
   "outputs": [],
   "source": [
    "ensemble_size = 4\n",
    "cal = Calibrator(\n",
    "    samplers=[HaltonSampler(batch_size=8)],\n",
    "    real_data=real_data,\n",
    "    sim_length=800,\n",
    "    model=restricted_cats_model,\n",
    "    parameters_bounds=bounds,\n",
    "    parameters_precision=precisions,\n",
    "    ensemble_size=ensemble_size, \n",
    "    loss_function=loss,\n",
    "    saving_folder=cats_util.saving_folder,\n",
    "    random_state=0,\n",
    "    n_jobs=32,\n",
    ")"
   ]
  },
  {
   "cell_type": "markdown",
   "id": "38b236d3",
   "metadata": {},
   "source": [
    "## Calibration\n",
    "\n",
    "Let's run this initial single-pass calibration:"
   ]
  },
  {
   "cell_type": "code",
   "execution_count": null,
   "id": "d07d67b5",
   "metadata": {
    "scrolled": true
   },
   "outputs": [],
   "source": [
    "params, losses = cal.calibrate(1)"
   ]
  },
  {
   "cell_type": "markdown",
   "id": "9de97e6f",
   "metadata": {},
   "source": [
    "Now we can change the sampler to a more adaptive one"
   ]
  },
  {
   "cell_type": "code",
   "execution_count": null,
   "id": "486c9334",
   "metadata": {},
   "outputs": [],
   "source": [
    "cal.set_samplers([\n",
    "    RandomForestSampler(batch_size=8),\n",
    "    BestBatchSampler(batch_size=8),\n",
    "])"
   ]
  },
  {
   "cell_type": "markdown",
   "id": "c87ebcf0",
   "metadata": {},
   "source": [
    "and perform the final calibration.\n",
    "\n",
    "We will run 4 more calibration epochs; each epoch will take approximately 10 seconds (because we are using a 32 core machine).\n",
    "\n",
    "A fully-fledged calibration with many free parameters can normally take days or weeks."
   ]
  },
  {
   "cell_type": "code",
   "execution_count": null,
   "id": "5b9fa8da",
   "metadata": {
    "scrolled": true
   },
   "outputs": [],
   "source": [
    "params, losses = cal.calibrate(4)"
   ]
  },
  {
   "cell_type": "markdown",
   "id": "0e2505a6",
   "metadata": {},
   "source": [
    "Retrieve the best loss we found."
   ]
  },
  {
   "cell_type": "code",
   "execution_count": null,
   "id": "f544f6a3",
   "metadata": {},
   "outputs": [],
   "source": [
    "best_idx = cats_util.find_best_loss_idx(cal.losses_samp)"
   ]
  },
  {
   "cell_type": "markdown",
   "id": "8cab4dd8",
   "metadata": {},
   "source": [
    "For each calibration round, Black-it internally saves all the generated time series (and many other parameters).\n",
    "Let's load the best simulation so far..."
   ]
  },
  {
   "cell_type": "code",
   "execution_count": null,
   "id": "e291379c",
   "metadata": {},
   "outputs": [],
   "source": [
    "best_sim = cal.series_samp[best_idx]"
   ]
  },
  {
   "cell_type": "markdown",
   "id": "2fb51dc4",
   "metadata": {},
   "source": [
    "...and compare its moments with the ones of the real series:"
   ]
  },
  {
   "cell_type": "code",
   "execution_count": null,
   "id": "539c4603",
   "metadata": {
    "scrolled": false
   },
   "outputs": [],
   "source": [
    "cats_util.compare_moments(real_data, best_sim, ensemble_size, coordinate_filters)"
   ]
  },
  {
   "cell_type": "markdown",
   "id": "57ab6bb3",
   "metadata": {},
   "source": [
    "- 0-3: mean, variance, skewness and kurtosis\n",
    "- 4-8: autocorrelations of increasing time lags\n",
    "- 9-12: mean, variance, skewness and kurtosis of the differentiated time series\n",
    "- 13-17: autocorrelations of the differentiated time series."
   ]
  }
 ],
 "metadata": {
  "kernelspec": {
   "display_name": "Python 3 (ipykernel)",
   "language": "python",
   "name": "python3"
  },
  "language_info": {
   "codemirror_mode": {
    "name": "ipython",
    "version": 3
   },
   "file_extension": ".py",
   "mimetype": "text/x-python",
   "name": "python",
   "nbconvert_exporter": "python",
   "pygments_lexer": "ipython3",
   "version": "3.10.8"
  },
  "toc": {
   "base_numbering": 1,
   "nav_menu": {},
   "number_sections": true,
   "sideBar": true,
   "skip_h1_title": false,
   "title_cell": "Table of Contents",
   "title_sidebar": "Contents",
   "toc_cell": false,
   "toc_position": {},
   "toc_section_display": true,
   "toc_window_display": false
  }
 },
 "nbformat": 4,
 "nbformat_minor": 5
}
